{
 "cells": [
  {
   "cell_type": "code",
   "execution_count": 1,
   "id": "518690a0",
   "metadata": {},
   "outputs": [
    {
     "name": "stdout",
     "output_type": "stream",
     "text": [
      "Requirement already satisfied: nltk in c:\\users\\dell\\anaconda3\\lib\\site-packages (3.7)\n",
      "Requirement already satisfied: joblib in c:\\users\\dell\\anaconda3\\lib\\site-packages (from nltk) (1.1.0)\n",
      "Requirement already satisfied: click in c:\\users\\dell\\anaconda3\\lib\\site-packages (from nltk) (8.0.4)\n",
      "Requirement already satisfied: regex>=2021.8.3 in c:\\users\\dell\\anaconda3\\lib\\site-packages (from nltk) (2022.7.9)\n",
      "Requirement already satisfied: tqdm in c:\\users\\dell\\anaconda3\\lib\\site-packages (from nltk) (4.64.1)\n",
      "Requirement already satisfied: colorama in c:\\users\\dell\\anaconda3\\lib\\site-packages (from click->nltk) (0.4.5)\n",
      "Note: you may need to restart the kernel to use updated packages.\n"
     ]
    }
   ],
   "source": [
    "pip install nltk"
   ]
  },
  {
   "cell_type": "code",
   "execution_count": 1,
   "id": "f1f3eaa7",
   "metadata": {},
   "outputs": [],
   "source": [
    "import nltk\n",
    "from nltk.tokenize import word_tokenize, sent_tokenize\n",
    "from nltk.corpus import stopwords"
   ]
  },
  {
   "cell_type": "code",
   "execution_count": 2,
   "id": "58febd37",
   "metadata": {},
   "outputs": [],
   "source": [
    "job_keywords = ['Python', 'Machine Learning', 'Data Science', 'NLP', 'Artificial Intelligence']\n",
    "required_skills = set(job_keywords)\n",
    "\n",
    "# You can also define other criteria like education, experience, etc.\n",
    "# For simplicity, let's stick to skills for now."
   ]
  },
  {
   "cell_type": "code",
   "execution_count": 3,
   "id": "c20368eb",
   "metadata": {},
   "outputs": [],
   "source": [
    "def find_relevant_candidates(resume_text):\n",
    "    # Tokenize the resume text into words and sentences\n",
    "    words = word_tokenize(resume_text)\n",
    "    sentences = sent_tokenize(resume_text)\n",
    "\n",
    "    # Remove stopwords (common words like 'the', 'and', 'is', etc.)\n",
    "    stop_words = set(stopwords.words('english'))\n",
    "    filtered_words = [word for word in words if word.lower() not in stop_words]\n",
    "\n",
    "    # Find skills that match the job keywords\n",
    "    candidate_skills = set(filtered_words).intersection(required_skills)\n",
    "\n",
    "    # Calculate the relevance score (percentage of matching skills)\n",
    "    relevance_score = len(candidate_skills) / len(required_skills) * 100\n",
    "\n",
    "    # Return the candidate's details and relevance score\n",
    "    candidate_details = {\n",
    "        'skills': candidate_skills,\n",
    "        'relevance_score': relevance_score,\n",
    "        'resume_text': resume_text,\n",
    "        'sentences': sentences\n",
    "    }\n",
    "\n",
    "    return candidate_details"
   ]
  },
  {
   "cell_type": "code",
   "execution_count": 5,
   "id": "1d10b737",
   "metadata": {},
   "outputs": [
    {
     "name": "stderr",
     "output_type": "stream",
     "text": [
      "[nltk_data] Downloading package punkt to\n",
      "[nltk_data]     C:\\Users\\dell\\AppData\\Roaming\\nltk_data...\n",
      "[nltk_data]   Unzipping tokenizers\\punkt.zip.\n"
     ]
    },
    {
     "data": {
      "text/plain": [
       "True"
      ]
     },
     "execution_count": 5,
     "metadata": {},
     "output_type": "execute_result"
    }
   ],
   "source": [
    "import nltk\n",
    "\n",
    "# Download 'punkt' tokenizer data\n",
    "nltk.download('punkt')"
   ]
  },
  {
   "cell_type": "code",
   "execution_count": 7,
   "id": "dd87a4d4",
   "metadata": {},
   "outputs": [
    {
     "name": "stderr",
     "output_type": "stream",
     "text": [
      "[nltk_data] Downloading package stopwords to\n",
      "[nltk_data]     C:\\Users\\dell\\AppData\\Roaming\\nltk_data...\n",
      "[nltk_data]   Unzipping corpora\\stopwords.zip.\n"
     ]
    },
    {
     "data": {
      "text/plain": [
       "True"
      ]
     },
     "execution_count": 7,
     "metadata": {},
     "output_type": "execute_result"
    }
   ],
   "source": [
    "import nltk\n",
    "\n",
    "# Download 'stopwords' tokenizer data\n",
    "nltk.download('stopwords')"
   ]
  },
  {
   "cell_type": "code",
   "execution_count": 8,
   "id": "df39b72a",
   "metadata": {},
   "outputs": [
    {
     "name": "stdout",
     "output_type": "stream",
     "text": [
      "Candidate 1:\n",
      "{'skills': {'NLP', 'Python'}, 'relevance_score': 40.0, 'resume_text': '\\nI am a Python developer with experience in machine learning and data science.\\nI have worked on various NLP projects and have a strong interest in artificial intelligence.\\n', 'sentences': ['\\nI am a Python developer with experience in machine learning and data science.', 'I have worked on various NLP projects and have a strong interest in artificial intelligence.']}\n",
      "\n",
      "Candidate 2:\n",
      "{'skills': set(), 'relevance_score': 0.0, 'resume_text': \"\\nI am a web developer with experience in JavaScript, HTML, and CSS.\\nAlthough I don't have direct experience in machine learning, I am eager to learn and contribute to AI projects.\\n\", 'sentences': ['\\nI am a web developer with experience in JavaScript, HTML, and CSS.', \"Although I don't have direct experience in machine learning, I am eager to learn and contribute to AI projects.\"]}\n"
     ]
    }
   ],
   "source": [
    "sample_resume_1 = \"\"\"\n",
    "I am a Python developer with experience in machine learning and data science.\n",
    "I have worked on various NLP projects and have a strong interest in artificial intelligence.\n",
    "\"\"\"\n",
    "\n",
    "sample_resume_2 = \"\"\"\n",
    "I am a web developer with experience in JavaScript, HTML, and CSS.\n",
    "Although I don't have direct experience in machine learning, I am eager to learn and contribute to AI projects.\n",
    "\"\"\"\n",
    "\n",
    "candidate_1 = find_relevant_candidates(sample_resume_1)\n",
    "candidate_2 = find_relevant_candidates(sample_resume_2)\n",
    "\n",
    "print(\"Candidate 1:\")\n",
    "print(candidate_1)\n",
    "print(\"\\nCandidate 2:\")\n",
    "print(candidate_2)"
   ]
  },
  {
   "cell_type": "code",
   "execution_count": null,
   "id": "8408ddef",
   "metadata": {},
   "outputs": [],
   "source": []
  }
 ],
 "metadata": {
  "kernelspec": {
   "display_name": "Python 3 (ipykernel)",
   "language": "python",
   "name": "python3"
  },
  "language_info": {
   "codemirror_mode": {
    "name": "ipython",
    "version": 3
   },
   "file_extension": ".py",
   "mimetype": "text/x-python",
   "name": "python",
   "nbconvert_exporter": "python",
   "pygments_lexer": "ipython3",
   "version": "3.9.13"
  }
 },
 "nbformat": 4,
 "nbformat_minor": 5
}
